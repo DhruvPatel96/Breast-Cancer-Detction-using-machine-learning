{
  "nbformat": 4,
  "nbformat_minor": 0,
  "metadata": {
    "colab": {
      "provenance": [],
      "include_colab_link": true
    },
    "kernelspec": {
      "name": "python3",
      "display_name": "Python 3"
    },
    "language_info": {
      "name": "python"
    }
  },
  "cells": [
    {
      "cell_type": "markdown",
      "metadata": {
        "id": "view-in-github",
        "colab_type": "text"
      },
      "source": [
        "<a href=\"https://colab.research.google.com/github/DhruvPatel96/Breast-Cancer-Detction-using-machine-learning/blob/main/ML-Model.ipynb\" target=\"_parent\"><img src=\"https://colab.research.google.com/assets/colab-badge.svg\" alt=\"Open In Colab\"/></a>"
      ]
    },
    {
      "cell_type": "markdown",
      "source": [
        "# Data Pre-processing"
      ],
      "metadata": {
        "id": "prOHYY9VoNfj"
      }
    },
    {
      "cell_type": "code",
      "source": [
        "import pandas as pd\n",
        "import numpy as np\n",
        "from sklearn import preprocessing\n",
        "from sklearn.model_selection import train_test_split\n",
        "from sklearn.preprocessing import StandardScaler\n",
        "df = pd.read_csv('Breast_Clinical_Dataset.csv')\n",
        "df=df.rename({\"Patient's Vital Status\": \"Patients_Vital_Status\",\n",
        "              \"Age at Diagnosis \": \"Age_at_Diagnosis\",\n",
        "              \"3-Gene classifier subtype\": \"3_Gene_classifier_subtype\",\n",
        "              \"Mutation Count\": \"Mutation_Count\",\n",
        "              \"ER Status\": \"ER_Status\",\n",
        "              \"Cancer Type Detailed\": \"Cancer_Type_Detailed\"},axis=1)"
      ],
      "metadata": {
        "id": "kCLDs4ShbQ58"
      },
      "execution_count": null,
      "outputs": []
    },
    {
      "cell_type": "markdown",
      "source": [
        "## Applying Label Encoder Technique"
      ],
      "metadata": {
        "id": "1yU3aSOAoXKQ"
      }
    },
    {
      "cell_type": "code",
      "execution_count": null,
      "metadata": {
        "colab": {
          "base_uri": "https://localhost:8080/"
        },
        "id": "4FTb49EHa_oZ",
        "outputId": "c035e119-b7db-4d7d-b49c-0f390335fe33"
      },
      "outputs": [
        {
          "output_type": "stream",
          "name": "stdout",
          "text": [
            "1092\n"
          ]
        }
      ],
      "source": [
        "df = df.dropna()\n",
        "le = preprocessing.LabelEncoder()\n",
        "df['Type of Breast Surgery'] = le.fit_transform(df['Type of Breast Surgery'])\n",
        "df['Cancer Type'] =  le.fit_transform(df['Cancer Type'])\n",
        "df['Cancer_Type_Detailed'] = le.fit_transform(df['Cancer_Type_Detailed'])\n",
        "df['Cellularity'] =  le.fit_transform(df['Cellularity'])\n",
        "df['Chemotherapy'] = le.fit_transform(df['Chemotherapy'])\n",
        "df['Pam50 + Claudin-low subtype'] =  le.fit_transform(df['Pam50 + Claudin-low subtype'])\n",
        "df['ER status measured by IHC'] = le.fit_transform(df['ER status measured by IHC'])\n",
        "df['ER_Status'] =  le.fit_transform(df['ER_Status'])\n",
        "df['Relapse Free Status'] = le.fit_transform(df['Relapse Free Status'])\n",
        "df['Sample Type'] =  le.fit_transform(df['Sample Type'])\n",
        "df['Sex'] = le.fit_transform(df['Sex'])\n",
        "df['3_Gene_classifier_subtype'] =  le.fit_transform(df['3_Gene_classifier_subtype'])\n",
        "df['Patients_Vital_Status'] = le.fit_transform(df['Patients_Vital_Status'])\n",
        "df['HER2 status measured by SNP6'] = le.fit_transform(df['HER2 status measured by SNP6'])\n",
        "df['HER2 Status'] = le.fit_transform(df['HER2 Status'])\n",
        "df['Tumor Other Histologic Subtype'] =  le.fit_transform(df['Tumor Other Histologic Subtype'])\n",
        "df['Hormone Therapy'] = le.fit_transform(df['Hormone Therapy'])\n",
        "df['Inferred Menopausal State'] = le.fit_transform(df['Inferred Menopausal State'])\n",
        "df['Integrative Cluster'] = le.fit_transform(df['Integrative Cluster'])\n",
        "df['Primary Tumor Laterality'] =  le.fit_transform(df['Primary Tumor Laterality'])\n",
        "df['Oncotree Code'] = le.fit_transform(df['Oncotree Code'])\n",
        "df['Overall Survival Status'] =  le.fit_transform(df['Overall Survival Status'])\n",
        "df['PR Status'] = le.fit_transform(df['PR Status'])\n",
        "df['Radio Therapy'] = le.fit_transform(df['Radio Therapy'])\n"
      ]
    },
    {
      "cell_type": "markdown",
      "source": [
        "## Input and Output Features"
      ],
      "metadata": {
        "id": "iNvMNPjZoiO1"
      }
    },
    {
      "cell_type": "code",
      "source": [
        "x1=df.iloc[:,:-1]\n",
        "y1=df.iloc[:,-1]"
      ],
      "metadata": {
        "id": "w9tGoN_YeQeA"
      },
      "execution_count": null,
      "outputs": []
    },
    {
      "cell_type": "markdown",
      "source": [
        "## Split training and testing Features"
      ],
      "metadata": {
        "id": "RSVfzBDyo2_-"
      }
    },
    {
      "cell_type": "code",
      "source": [
        "from sklearn.model_selection import train_test_split\n",
        "x_train,x_test,y_train,y_test = train_test_split( x1, y1, test_size=0.2,random_state=0)"
      ],
      "metadata": {
        "id": "bdt8NmQSet5f"
      },
      "execution_count": null,
      "outputs": []
    },
    {
      "cell_type": "markdown",
      "source": [
        "# Applying Classification Technique"
      ],
      "metadata": {
        "id": "4wG7zEvso-LY"
      }
    },
    {
      "cell_type": "code",
      "source": [
        "from sklearn.ensemble import RandomForestClassifier\n",
        "rf = RandomForestClassifier(max_depth=1, random_state=0)\n",
        "rf.fit(x_train,y_train)\n",
        "Y_pred = rf.predict(x_test)"
      ],
      "metadata": {
        "id": "46aniiZaexrB"
      },
      "execution_count": null,
      "outputs": []
    },
    {
      "cell_type": "markdown",
      "source": [
        "## Metrics Calculation"
      ],
      "metadata": {
        "id": "12qTdFY5pGTN"
      }
    },
    {
      "cell_type": "code",
      "source": [
        "from sklearn.metrics import confusion_matrix, accuracy_score\n",
        "y_cm = confusion_matrix(y_test,Y_pred)\n",
        "print(y_cm)\n",
        "y_ac = (accuracy_score(y_test,Y_pred)*100)\n",
        "print(\"ac of random forest classifier is\" , y_ac)\n",
        "errors = abs(rf.predict(x_test) - y_test)\n",
        "print('Average Error: {:0.4f} degrees.'.format(np.mean(errors)))"
      ],
      "metadata": {
        "colab": {
          "base_uri": "https://localhost:8080/"
        },
        "id": "ahrygD5LhqQp",
        "outputId": "fb340577-21ec-43c7-97e1-264ce2333af3"
      },
      "execution_count": null,
      "outputs": [
        {
          "output_type": "stream",
          "name": "stdout",
          "text": [
            "[[70  0  0]\n",
            " [15  0 37]\n",
            " [ 0  0 97]]\n",
            "ac of random forest classifier is 76.25570776255708\n",
            "Average Error: 0.2374 degrees.\n"
          ]
        }
      ]
    },
    {
      "cell_type": "markdown",
      "source": [
        "# Applying DR method called LDA"
      ],
      "metadata": {
        "id": "L72n_A0RpP1_"
      }
    },
    {
      "cell_type": "code",
      "source": [
        "from sklearn.discriminant_analysis import LinearDiscriminantAnalysis\n",
        "lda = LinearDiscriminantAnalysis()\n",
        "x1=lda.fit_transform(x1,y1)\n",
        "print(x1)"
      ],
      "metadata": {
        "colab": {
          "base_uri": "https://localhost:8080/"
        },
        "id": "RxtS2sXah6WX",
        "outputId": "5808ec0d-b9f4-46dc-c1e2-47607448db7a"
      },
      "execution_count": null,
      "outputs": [
        {
          "output_type": "stream",
          "name": "stdout",
          "text": [
            "[[ 1.98872554  1.19208731]\n",
            " [-2.94002949 -1.02484723]\n",
            " [-3.2304448  -0.47911029]\n",
            " ...\n",
            " [ 0.95996866 -2.928661  ]\n",
            " [ 1.55804537 -0.57719879]\n",
            " [ 1.9594319  -0.54060608]]\n"
          ]
        }
      ]
    },
    {
      "cell_type": "markdown",
      "source": [
        "## Applying Grid Search"
      ],
      "metadata": {
        "id": "6W67mboMp5eg"
      }
    },
    {
      "cell_type": "code",
      "source": [
        "from sklearn.model_selection import train_test_split\n",
        "x_train,x_test,y_train,y_test = train_test_split( x1, y1, test_size=0.2,random_state=0)\n",
        "from sklearn.model_selection import RandomizedSearchCV\n",
        "# Number of trees in random forest\n",
        "n_estimators = [int(x) for x in np.linspace(start = 200, stop = 2000, num = 10)]\n",
        "# Number of features to consider at every split\n",
        "max_features = ['auto', 'sqrt']\n",
        "# Maximum number of levels in tree\n",
        "max_depth = [1, 2, 3, 4, 5, 6]\n",
        "max_depth.append(None)\n",
        "# Minimum number of samples required to split a node\n",
        "min_samples_split = [2, 5, 10]\n",
        "# Minimum number of samples required at each leaf node\n",
        "min_samples_leaf = [1, 2, 4]\n",
        "# Method of selecting samples for training each tree\n",
        "bootstrap = [True, False]\n",
        "# Create the random grid\n",
        "random_grid = {'n_estimators': n_estimators,\n",
        "               'max_features': max_features,\n",
        "               'max_depth': max_depth,\n",
        "               'min_samples_split': min_samples_split,\n",
        "               'min_samples_leaf': min_samples_leaf,\n",
        "               'bootstrap': bootstrap}\n",
        "print(random_grid)\n",
        "\n",
        "rf_random = RandomizedSearchCV(estimator = rf, param_distributions = random_grid, n_iter = 100, cv = 3, verbose=2, random_state=42, n_jobs = -1)\n",
        "# Fit the random search model\n",
        "rf_random.fit(x_train, y_train)"
      ],
      "metadata": {
        "colab": {
          "base_uri": "https://localhost:8080/"
        },
        "id": "9SEjZaCEpsN3",
        "outputId": "f1764bf6-c19d-46fa-a31f-378102e57bf0"
      },
      "execution_count": null,
      "outputs": [
        {
          "output_type": "stream",
          "name": "stdout",
          "text": [
            "{'n_estimators': [200, 400, 600, 800, 1000, 1200, 1400, 1600, 1800, 2000], 'max_features': ['auto', 'sqrt'], 'max_depth': [1, 2, 3, 4, 5, 6, None], 'min_samples_split': [2, 5, 10], 'min_samples_leaf': [1, 2, 4], 'bootstrap': [True, False]}\n",
            "Fitting 3 folds for each of 100 candidates, totalling 300 fits\n"
          ]
        },
        {
          "output_type": "execute_result",
          "data": {
            "text/plain": [
              "RandomizedSearchCV(cv=3,\n",
              "                   estimator=RandomForestClassifier(max_depth=1,\n",
              "                                                    random_state=0),\n",
              "                   n_iter=100, n_jobs=-1,\n",
              "                   param_distributions={'bootstrap': [True, False],\n",
              "                                        'max_depth': [1, 2, 3, 4, 5, 6, None],\n",
              "                                        'max_features': ['auto', 'sqrt'],\n",
              "                                        'min_samples_leaf': [1, 2, 4],\n",
              "                                        'min_samples_split': [2, 5, 10],\n",
              "                                        'n_estimators': [200, 400, 600, 800,\n",
              "                                                         1000, 1200, 1400, 1600,\n",
              "                                                         1800, 2000]},\n",
              "                   random_state=42, verbose=2)"
            ]
          },
          "metadata": {},
          "execution_count": 8
        }
      ]
    },
    {
      "cell_type": "markdown",
      "source": [
        "## Metrics Evaluation"
      ],
      "metadata": {
        "id": "o_JtVCSpp_m4"
      }
    },
    {
      "cell_type": "code",
      "source": [
        "y_rf_random = rf_random.predict(x_test)\n",
        "from sklearn.metrics import confusion_matrix, accuracy_score\n",
        "y_cm = confusion_matrix(y_test,y_rf_random)\n",
        "y_random_ac = (accuracy_score(y_test,y_rf_random)*100)\n",
        "errors = abs(rf_random.predict(x_test) - y_test)\n",
        "print('Average Error: {:0.4f} degrees.'.format(np.mean(errors)))\n",
        "print(y_cm)\n",
        "print('Accuracy = {:0.2f}%.'.format(y_random_ac))\n",
        "print('Improvement of {:0.2f}%.'.format( 100 * (y_random_ac - y_ac) / y_ac))"
      ],
      "metadata": {
        "colab": {
          "base_uri": "https://localhost:8080/"
        },
        "id": "pwZopo_lpxRx",
        "outputId": "b1b32399-7315-42b8-ba31-a096088f502b"
      },
      "execution_count": null,
      "outputs": [
        {
          "output_type": "stream",
          "name": "stdout",
          "text": [
            "Average Error: 0.2420 degrees.\n",
            "[[65  0  5]\n",
            " [ 6 30 16]\n",
            " [ 6  9 82]]\n",
            "Accuracy = 80.82%.\n",
            "Improvement of 5.99%.\n"
          ]
        }
      ]
    },
    {
      "cell_type": "markdown",
      "source": [
        "# Data Visualisation"
      ],
      "metadata": {
        "id": "ouJbjFdwqKSq"
      }
    },
    {
      "cell_type": "code",
      "source": [
        "import seaborn as sns\n",
        "import matplotlib.pyplot as plt\n",
        "df1 = pd.read_csv('Breast_Clinical_Dataset.csv')\n",
        "df1=df1.rename({\"Patient's Vital Status\": \"Patients_Vital_Status\",\n",
        "              \"Age at Diagnosis\": \"Age_at_Diagnosis\",\n",
        "              \"3-Gene classifier subtype\": \"Gene_classifier_subtype\",\n",
        "              \"Mutation Count\": \"Mutation_Count\",\n",
        "              \"ER Status\": \"ER_Status\",\n",
        "              \"HER2 Status\": \"HER2_Status\",\n",
        "              \"Radio Therapy\": \"Radio_Therapy\",\n",
        "              \"Cancer Type Detailed\": \"Cancer_Type_Detailed\"},axis=1)"
      ],
      "metadata": {
        "id": "IUifeToeiqEo"
      },
      "execution_count": null,
      "outputs": []
    },
    {
      "cell_type": "code",
      "source": [
        "df1.Cancer_Type_Detailed.value_counts().sort_values().plot(kind = 'barh')"
      ],
      "metadata": {
        "colab": {
          "base_uri": "https://localhost:8080/",
          "height": 282
        },
        "id": "P9_ZNjDN39qh",
        "outputId": "1ef6b088-3cd8-481b-9c21-9b4e1f18c7f7"
      },
      "execution_count": null,
      "outputs": [
        {
          "output_type": "execute_result",
          "data": {
            "text/plain": [
              "<matplotlib.axes._subplots.AxesSubplot at 0x7f403a2c80d0>"
            ]
          },
          "metadata": {},
          "execution_count": 11
        },
        {
          "output_type": "display_data",
          "data": {
            "text/plain": [
              "<Figure size 432x288 with 1 Axes>"
            ],
            "image/png": "[encoded data removed]"
          },
          "metadata": {
            "needs_background": "light"
          }
        }
      ]
    },
    {
      "cell_type": "code",
      "source": [
        "df1.Mutation_Count.value_counts().sort_values().plot(kind = 'bar')"
      ],
      "metadata": {
        "colab": {
          "base_uri": "https://localhost:8080/",
          "height": 295
        },
        "id": "e0jivbOSmYs2",
        "outputId": "32a0be1e-4e16-474d-a9d6-fc7dea129af0"
      },
      "execution_count": null,
      "outputs": [
        {
          "output_type": "execute_result",
          "data": {
            "text/plain": [
              "<matplotlib.axes._subplots.AxesSubplot at 0x7f403a215eb0>"
            ]
          },
          "metadata": {},
          "execution_count": 12
        },
        {
          "output_type": "display_data",
          "data": {
            "text/plain": [
              "<Figure size 432x288 with 1 Axes>"
            ],
            "image/png": "[encoded data removed]"
          },
          "metadata": {
            "needs_background": "light"
          }
        }
      ]
    },
    {
      "cell_type": "code",
      "source": [
        "plt.subplot(5, 3, 1)\n",
        "df1.ER_Status.value_counts().sort_values().plot(kind = 'pie',figsize=(20, 20))\n",
        "plt.ylabel('')\n",
        "plt.title(\"ER Status\")\n",
        "plt.subplot(5, 3, 2)\n",
        "df1.Gene_classifier_subtype.value_counts().sort_values().plot(kind = 'pie',figsize=(20, 20))\n",
        "plt.ylabel('')\n",
        "plt.title(\"3_Gene_classifier_subtype\")\n",
        "plt.subplot(5, 3, 3)\n",
        "df1.Cellularity.value_counts().sort_values().plot(kind = 'pie',figsize=(20, 20))\n",
        "plt.ylabel('')\n",
        "plt.title(\"Cellularity\")\n",
        "plt.subplot(5, 3, 4)\n",
        "df1.Chemotherapy.value_counts().sort_values().plot(kind = 'pie',figsize=(20, 20))\n",
        "plt.ylabel('')\n",
        "plt.title(\"Chemotherapy\")\n",
        "plt.subplot(5, 3, 4)\n",
        "df1.Chemotherapy.value_counts().sort_values().plot(kind = 'pie',figsize=(20, 20))\n",
        "plt.ylabel('')\n",
        "plt.title(\"Chemotherapy\")\n",
        "plt.subplot(5, 3, 5)\n",
        "df1.HER2_Status.value_counts().sort_values().plot(kind = 'pie',figsize=(20, 20))\n",
        "plt.ylabel('')\n",
        "plt.title(\"HER2_Status\")\n",
        "plt.subplot(5, 3, 6)\n",
        "df1.Radio_Therapy.value_counts().sort_values().plot(kind = 'pie',figsize=(20, 20))\n",
        "plt.ylabel('')\n",
        "plt.title(\"Radio_Therapy\")\n"
      ],
      "metadata": {
        "colab": {
          "base_uri": "https://localhost:8080/",
          "height": 531
        },
        "id": "ydYDmk6Qmmrv",
        "outputId": "5f6359be-756c-4b3c-9df4-69c66936632b"
      },
      "execution_count": null,
      "outputs": [
        {
          "output_type": "stream",
          "name": "stderr",
          "text": [
            "<ipython-input-13-ee169ac23ba3>:17: MatplotlibDeprecationWarning: Adding an axes using the same arguments as a previous axes currently reuses the earlier instance.  In a future version, a new instance will always be created and returned.  Meanwhile, this warning can be suppressed, and the future behavior ensured, by passing a unique label to each axes instance.\n",
            "  plt.subplot(5, 3, 4)\n"
          ]
        },
        {
          "output_type": "execute_result",
          "data": {
            "text/plain": [
              "Text(0.5, 1.0, 'Radio_Therapy')"
            ]
          },
          "metadata": {},
          "execution_count": 13
        },
        {
          "output_type": "display_data",
          "data": {
            "text/plain": [
              "<Figure size 1440x1440 with 6 Axes>"
            ],
            "image/png": "[encoded data removed]"
          },
          "metadata": {}
        }
      ]
    },
    {
      "cell_type": "code",
      "source": [],
      "metadata": {
        "id": "OrqkBtMInCBg"
      },
      "execution_count": null,
      "outputs": []
    }
  ]
}